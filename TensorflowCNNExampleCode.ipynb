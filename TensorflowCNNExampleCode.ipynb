{
 "cells": [
  {
   "cell_type": "code",
   "execution_count": 1,
   "id": "7c5308b4",
   "metadata": {},
   "outputs": [
    {
     "data": {
      "text/plain": [
       "'/Users/matthewlavin/Denison-DA-350-Fall-2022'"
      ]
     },
     "execution_count": 1,
     "metadata": {},
     "output_type": "execute_result"
    }
   ],
   "source": [
    "%pwd"
   ]
  },
  {
   "cell_type": "code",
   "execution_count": 2,
   "id": "c5dcdef9",
   "metadata": {},
   "outputs": [],
   "source": [
    "import tensorflow as tf\n",
    "#https://pyimagesearch.com/2019/10/21/keras-vs-tf-keras-whats-the-difference-in-tensorflow-2-0/"
   ]
  },
  {
   "cell_type": "code",
   "execution_count": 3,
   "id": "6c796590",
   "metadata": {},
   "outputs": [],
   "source": [
    "model = tf.keras.models.Sequential([\n",
    "    # Note the input shape is the desired size of the image 200x200 with 3 bytes color\n",
    "    # This is the first convolution\n",
    "    tf.keras.layers.Conv2D(16, (3,3), activation='relu', input_shape=(200, 200, 3)),\n",
    "    tf.keras.layers.MaxPooling2D(2, 2),\n",
    "    # The second convolution\n",
    "    tf.keras.layers.Conv2D(32, (3,3), activation='relu'),tf.keras.layers.MaxPooling2D(2,2),\n",
    "    # The third convolution\n",
    "    tf.keras.layers.Conv2D(64, (3,3), activation='relu'),tf.keras.layers.MaxPooling2D(2,2),\n",
    "    # The fourth convolution\n",
    "    tf.keras.layers.Conv2D(64, (3,3), activation='relu'),tf.keras.layers.MaxPooling2D(2,2),\n",
    "    # The fifth convolution\n",
    "    tf.keras.layers.Conv2D(64, (3,3), activation='relu'),tf.keras.layers.MaxPooling2D(2,2),\n",
    "    # Flatten the results to feed into a DNN\n",
    "    tf.keras.layers.Flatten(),\n",
    "    # 512 neuron hidden layer\n",
    "    tf.keras.layers.Dense(512, activation='relu'),\n",
    "    # Only 1 output neuron. It will contain a value from 0-1 where 0 for 1 class ('dandelions') and 1 for the other ('grass')\n",
    "    tf.keras.layers.Dense(1, activation='sigmoid')])"
   ]
  },
  {
   "cell_type": "code",
   "execution_count": 4,
   "id": "4de91569",
   "metadata": {},
   "outputs": [
    {
     "name": "stdout",
     "output_type": "stream",
     "text": [
      "Model: \"sequential\"\n",
      "_________________________________________________________________\n",
      " Layer (type)                Output Shape              Param #   \n",
      "=================================================================\n",
      " conv2d (Conv2D)             (None, 198, 198, 16)      448       \n",
      "                                                                 \n",
      " max_pooling2d (MaxPooling2D  (None, 99, 99, 16)       0         \n",
      " )                                                               \n",
      "                                                                 \n",
      " conv2d_1 (Conv2D)           (None, 97, 97, 32)        4640      \n",
      "                                                                 \n",
      " max_pooling2d_1 (MaxPooling  (None, 48, 48, 32)       0         \n",
      " 2D)                                                             \n",
      "                                                                 \n",
      " conv2d_2 (Conv2D)           (None, 46, 46, 64)        18496     \n",
      "                                                                 \n",
      " max_pooling2d_2 (MaxPooling  (None, 23, 23, 64)       0         \n",
      " 2D)                                                             \n",
      "                                                                 \n",
      " conv2d_3 (Conv2D)           (None, 21, 21, 64)        36928     \n",
      "                                                                 \n",
      " max_pooling2d_3 (MaxPooling  (None, 10, 10, 64)       0         \n",
      " 2D)                                                             \n",
      "                                                                 \n",
      " conv2d_4 (Conv2D)           (None, 8, 8, 64)          36928     \n",
      "                                                                 \n",
      " max_pooling2d_4 (MaxPooling  (None, 4, 4, 64)         0         \n",
      " 2D)                                                             \n",
      "                                                                 \n",
      " flatten (Flatten)           (None, 1024)              0         \n",
      "                                                                 \n",
      " dense (Dense)               (None, 512)               524800    \n",
      "                                                                 \n",
      " dense_1 (Dense)             (None, 1)                 513       \n",
      "                                                                 \n",
      "=================================================================\n",
      "Total params: 622,753\n",
      "Trainable params: 622,753\n",
      "Non-trainable params: 0\n",
      "_________________________________________________________________\n"
     ]
    }
   ],
   "source": [
    "model.summary()"
   ]
  },
  {
   "cell_type": "code",
   "execution_count": 5,
   "id": "d3096da2",
   "metadata": {},
   "outputs": [
    {
     "data": {
      "text/plain": [
       "'/Users/matthewlavin/Denison-DA-350-Fall-2022'"
      ]
     },
     "execution_count": 5,
     "metadata": {},
     "output_type": "execute_result"
    }
   ],
   "source": [
    "pwd"
   ]
  },
  {
   "cell_type": "code",
   "execution_count": 6,
   "id": "ceb507d6",
   "metadata": {},
   "outputs": [],
   "source": [
    "RMSprop = tf.keras.dtensor.experimental.optimizers.RMSprop\n",
    "# could also use Adam here \n",
    "model.compile(loss='binary_crossentropy',optimizer=RMSprop(),metrics=[tf.keras.metrics.Recall(), tf.keras.metrics.Precision()])\n"
   ]
  },
  {
   "cell_type": "code",
   "execution_count": 7,
   "id": "07178e12",
   "metadata": {},
   "outputs": [
    {
     "name": "stdout",
     "output_type": "stream",
     "text": [
      "Found 1517 files belonging to 2 classes.\n",
      "Using 1138 files for training.\n",
      "Found 1517 files belonging to 2 classes.\n",
      "Using 379 files for validation.\n"
     ]
    }
   ],
   "source": [
    "training_set = tf.keras.utils.image_dataset_from_directory(\n",
    "  'page_images/',\n",
    "  labels='inferred',\n",
    "    label_mode='int',\n",
    "    color_mode='rgb',\n",
    "    batch_size=50,\n",
    "    image_size=(200, 200),\n",
    "    shuffle=True,\n",
    "    seed=124,\n",
    "    validation_split=0.25,\n",
    "    subset='training',\n",
    "    interpolation='bilinear',\n",
    "    follow_links=False,\n",
    "    crop_to_aspect_ratio=False\n",
    ")\n",
    "\n",
    "validation_set = _set = tf.keras.utils.image_dataset_from_directory(\n",
    "  'page_images/',\n",
    "  labels='inferred',\n",
    "    label_mode='int',\n",
    "    color_mode='rgb',\n",
    "    batch_size=12,\n",
    "    image_size=(200, 200),\n",
    "    shuffle=True,\n",
    "    seed=124,\n",
    "    validation_split=0.25,\n",
    "    subset='validation',\n",
    "    interpolation='bilinear',\n",
    "    follow_links=False,\n",
    "    crop_to_aspect_ratio=False\n",
    ")"
   ]
  },
  {
   "cell_type": "code",
   "execution_count": 8,
   "id": "426d5570",
   "metadata": {},
   "outputs": [
    {
     "data": {
      "text/plain": [
       "(['image_page', 'text_page'], ['image_page', 'text_page'])"
      ]
     },
     "execution_count": 8,
     "metadata": {},
     "output_type": "execute_result"
    }
   ],
   "source": [
    "training_set.class_names, validation_set.class_names"
   ]
  },
  {
   "cell_type": "code",
   "execution_count": 9,
   "id": "2a55ae4d",
   "metadata": {},
   "outputs": [
    {
     "name": "stdout",
     "output_type": "stream",
     "text": [
      "Epoch 1/10\n"
     ]
    },
    {
     "name": "stderr",
     "output_type": "stream",
     "text": [
      "2022-11-09 14:34:52.441304: W tensorflow/core/platform/profile_utils/cpu_utils.cc:128] Failed to get CPU frequency: 0 Hz\n"
     ]
    },
    {
     "name": "stdout",
     "output_type": "stream",
     "text": [
      "5/5 [==============================] - 3s 498ms/step - loss: 58.4034 - recall: 0.5817 - precision: 0.8067 - val_loss: 4.7396 - val_recall: 0.0000e+00 - val_precision: 0.0000e+00\n",
      "Epoch 2/10\n",
      "5/5 [==============================] - 2s 459ms/step - loss: 1.7111 - recall: 0.7945 - precision: 0.8744 - val_loss: 3.3176 - val_recall: 0.0000e+00 - val_precision: 0.0000e+00\n",
      "Epoch 3/10\n",
      "5/5 [==============================] - 2s 433ms/step - loss: 1.6394 - recall: 0.6186 - precision: 0.8526 - val_loss: 1.0098 - val_recall: 1.0000 - val_precision: 0.8833\n",
      "Epoch 4/10\n",
      "5/5 [==============================] - 2s 387ms/step - loss: 1.4758 - recall: 0.7971 - precision: 0.8250 - val_loss: 0.6671 - val_recall: 1.0000 - val_precision: 0.8833\n",
      "Epoch 5/10\n",
      "5/5 [==============================] - 3s 612ms/step - loss: 1.5689 - recall: 0.7885 - precision: 0.8632 - val_loss: 0.2535 - val_recall: 1.0000 - val_precision: 0.9000\n",
      "Epoch 6/10\n",
      "5/5 [==============================] - 2s 452ms/step - loss: 1.0274 - recall: 0.8091 - precision: 0.8900 - val_loss: 1.3841 - val_recall: 1.0000 - val_precision: 0.8167\n",
      "Epoch 7/10\n",
      "5/5 [==============================] - 2s 471ms/step - loss: 0.9955 - recall: 0.8794 - precision: 0.7883 - val_loss: 0.6007 - val_recall: 0.7000 - val_precision: 0.8750\n",
      "Epoch 8/10\n",
      "5/5 [==============================] - 2s 398ms/step - loss: 1.0012 - recall: 0.7217 - precision: 0.8500 - val_loss: 1.0003 - val_recall: 1.0000 - val_precision: 0.7833\n",
      "Epoch 9/10\n",
      "5/5 [==============================] - 2s 392ms/step - loss: 0.2795 - recall: 1.0000 - precision: 0.9292 - val_loss: 0.2357 - val_recall: 1.0000 - val_precision: 0.9245\n",
      "Epoch 10/10\n",
      "5/5 [==============================] - 3s 708ms/step - loss: 0.1994 - recall: 1.0000 - precision: 0.9401 - val_loss: 0.2856 - val_recall: 0.9200 - val_precision: 0.9583\n"
     ]
    }
   ],
   "source": [
    "# see https://colab.research.google.com/drive/1nseete5huZlWM7Ak0qL-T75Dbk0mdr-Z?usp=sharing#scrollTo=rX8mhOLljYeM\n",
    "history = model.fit(training_set.repeat(),\n",
    "      steps_per_epoch=5,  \n",
    "      epochs=10,\n",
    "      verbose=1,\n",
    "      validation_data = validation_set,\n",
    "      validation_steps=5)"
   ]
  },
  {
   "cell_type": "code",
   "execution_count": 10,
   "id": "7aad4c8c",
   "metadata": {},
   "outputs": [
    {
     "name": "stdout",
     "output_type": "stream",
     "text": [
      "32/32 [==============================] - 1s 40ms/step - loss: 0.3925 - recall: 0.9283 - precision: 0.9226\n"
     ]
    },
    {
     "data": {
      "text/plain": [
       "[0.39253726601600647, 0.9283488988876343, 0.9226006269454956]"
      ]
     },
     "execution_count": 10,
     "metadata": {},
     "output_type": "execute_result"
    }
   ],
   "source": [
    "model.evaluate(validation_set)"
   ]
  },
  {
   "cell_type": "code",
   "execution_count": 11,
   "id": "4d70f773",
   "metadata": {},
   "outputs": [
    {
     "name": "stdout",
     "output_type": "stream",
     "text": [
      "32/32 [==============================] - 2s 39ms/step\n"
     ]
    }
   ],
   "source": [
    "preds = model.predict(validation_set, verbose=1)\n",
    "\n",
    "# model.predict returns numpy array of predictions, each prediction is a float32 ... probability of class 1?\n",
    "# validation_set array of true labels"
   ]
  },
  {
   "cell_type": "code",
   "execution_count": 12,
   "id": "1104ea43",
   "metadata": {},
   "outputs": [
    {
     "data": {
      "text/plain": [
       "0.9563704"
      ]
     },
     "execution_count": 12,
     "metadata": {},
     "output_type": "execute_result"
    }
   ],
   "source": [
    "# note that these are prediction probabilities, not categories\n",
    "preds[8][0]"
   ]
  },
  {
   "cell_type": "code",
   "execution_count": 13,
   "id": "23143ceb",
   "metadata": {},
   "outputs": [
    {
     "data": {
      "text/plain": [
       "['image_page', 'text_page']"
      ]
     },
     "execution_count": 13,
     "metadata": {},
     "output_type": "execute_result"
    }
   ],
   "source": [
    "validation_set.class_names"
   ]
  },
  {
   "cell_type": "code",
   "execution_count": 14,
   "id": "a4b9acf0",
   "metadata": {},
   "outputs": [
    {
     "data": {
      "text/plain": [
       "379"
      ]
     },
     "execution_count": 14,
     "metadata": {},
     "output_type": "execute_result"
    }
   ],
   "source": [
    "images_all = []\n",
    "labels_all = []\n",
    "for images, labels in validation_set:  \n",
    "    images_all.extend(images.numpy())\n",
    "    labels_all.extend(labels.numpy())\n",
    "len(images_all)"
   ]
  },
  {
   "cell_type": "code",
   "execution_count": 15,
   "id": "0b9275a5",
   "metadata": {},
   "outputs": [
    {
     "data": {
      "text/plain": [
       "0"
      ]
     },
     "execution_count": 15,
     "metadata": {},
     "output_type": "execute_result"
    }
   ],
   "source": [
    "labels_all[8]"
   ]
  },
  {
   "cell_type": "code",
   "execution_count": 16,
   "id": "9f7bb1bc",
   "metadata": {},
   "outputs": [],
   "source": [
    "import matplotlib.pyplot as plt"
   ]
  },
  {
   "cell_type": "code",
   "execution_count": 17,
   "id": "4ba8a942",
   "metadata": {},
   "outputs": [
    {
     "data": {
      "text/plain": [
       "<matplotlib.image.AxesImage at 0x17b2c39d0>"
      ]
     },
     "execution_count": 17,
     "metadata": {},
     "output_type": "execute_result"
    },
    {
     "data": {
      "image/png": "[encoded data removed]",
      "text/plain": [
       "<Figure size 900x900 with 1 Axes>"
      ]
     },
     "metadata": {},
     "output_type": "display_data"
    }
   ],
   "source": [
    "# set size of image\n",
    "plt.figure(figsize=(9,9))\n",
    "# display image inline\n",
    "test_model = tf.keras.utils.array_to_img(images_all[8])\n",
    "plt.imshow(test_model)"
   ]
  },
  {
   "cell_type": "markdown",
   "id": "62ad2a86",
   "metadata": {},
   "source": [
    "## Activity\n",
    "\n",
    "### How can we make a dataframe with columns for predicted probability, best guess of label we should pick, true label, and whether the prediction was correct or not?\n",
    "\n",
    "### Once we have that DataFrame, how can we use it to calculate per class precision and recall, make a confusion matrix, etc? "
   ]
  },
  {
   "cell_type": "markdown",
   "id": "78da2a97",
   "metadata": {},
   "source": [
    "| image | prob | predicted category | true category | correct (TF)|\n",
    "|---|---|---|---|---|\n",
    "| 0 | .99 | 1 | 1 | True |\n",
    "| 8 | .91 | 0 | 0 | True |"
   ]
  },
  {
   "cell_type": "code",
   "execution_count": 27,
   "id": "56eba62b",
   "metadata": {},
   "outputs": [
    {
     "data": {
      "text/html": [
       "<div>\n",
       "<style scoped>\n",
       "    .dataframe tbody tr th:only-of-type {\n",
       "        vertical-align: middle;\n",
       "    }\n",
       "\n",
       "    .dataframe tbody tr th {\n",
       "        vertical-align: top;\n",
       "    }\n",
       "\n",
       "    .dataframe thead th {\n",
       "        text-align: right;\n",
       "    }\n",
       "</style>\n",
       "<table border=\"1\" class=\"dataframe\">\n",
       "  <thead>\n",
       "    <tr style=\"text-align: right;\">\n",
       "      <th></th>\n",
       "      <th>true_label</th>\n",
       "      <th>probability</th>\n",
       "    </tr>\n",
       "  </thead>\n",
       "  <tbody>\n",
       "    <tr>\n",
       "      <th>83</th>\n",
       "      <td>1</td>\n",
       "      <td>3.356586e-18</td>\n",
       "    </tr>\n",
       "    <tr>\n",
       "      <th>370</th>\n",
       "      <td>1</td>\n",
       "      <td>8.570040e-17</td>\n",
       "    </tr>\n",
       "    <tr>\n",
       "      <th>12</th>\n",
       "      <td>1</td>\n",
       "      <td>2.576497e-14</td>\n",
       "    </tr>\n",
       "    <tr>\n",
       "      <th>170</th>\n",
       "      <td>1</td>\n",
       "      <td>2.600413e-13</td>\n",
       "    </tr>\n",
       "    <tr>\n",
       "      <th>55</th>\n",
       "      <td>1</td>\n",
       "      <td>4.214607e-12</td>\n",
       "    </tr>\n",
       "    <tr>\n",
       "      <th>...</th>\n",
       "      <td>...</td>\n",
       "      <td>...</td>\n",
       "    </tr>\n",
       "    <tr>\n",
       "      <th>15</th>\n",
       "      <td>1</td>\n",
       "      <td>9.989507e-01</td>\n",
       "    </tr>\n",
       "    <tr>\n",
       "      <th>243</th>\n",
       "      <td>1</td>\n",
       "      <td>9.991992e-01</td>\n",
       "    </tr>\n",
       "    <tr>\n",
       "      <th>205</th>\n",
       "      <td>1</td>\n",
       "      <td>9.994124e-01</td>\n",
       "    </tr>\n",
       "    <tr>\n",
       "      <th>21</th>\n",
       "      <td>0</td>\n",
       "      <td>9.994739e-01</td>\n",
       "    </tr>\n",
       "    <tr>\n",
       "      <th>99</th>\n",
       "      <td>1</td>\n",
       "      <td>9.995233e-01</td>\n",
       "    </tr>\n",
       "  </tbody>\n",
       "</table>\n",
       "<p>379 rows × 2 columns</p>\n",
       "</div>"
      ],
      "text/plain": [
       "     true_label   probability\n",
       "83            1  3.356586e-18\n",
       "370           1  8.570040e-17\n",
       "12            1  2.576497e-14\n",
       "170           1  2.600413e-13\n",
       "55            1  4.214607e-12\n",
       "..          ...           ...\n",
       "15            1  9.989507e-01\n",
       "243           1  9.991992e-01\n",
       "205           1  9.994124e-01\n",
       "21            0  9.994739e-01\n",
       "99            1  9.995233e-01\n",
       "\n",
       "[379 rows x 2 columns]"
      ]
     },
     "execution_count": 27,
     "metadata": {},
     "output_type": "execute_result"
    }
   ],
   "source": [
    "df"
   ]
  },
  {
   "cell_type": "code",
   "execution_count": 35,
   "id": "f799ce5a",
   "metadata": {},
   "outputs": [
    {
     "data": {
      "text/plain": [
       "73.35092348284961"
      ]
     },
     "execution_count": 35,
     "metadata": {},
     "output_type": "execute_result"
    }
   ],
   "source": [
    "import pandas as pd\n",
    "df = pd.DataFrame()\n",
    "df['true_label'] = labels_all\n",
    "df['probability'] = preds\n",
    "#df.head(40)\n",
    "df = df.sort_values(by='probability')\n",
    "inferred_labels = [0 for i in range(65)] + [1 for i in range(314)]\n",
    "df['predicted_label'] = inferred_labels\n",
    "df['compare'] = (df['true_label'] + df['predicted_label']) % 2\n",
    "(1 - (sum(df['compare'])/len(df))) * 100\n"
   ]
  },
  {
   "cell_type": "code",
   "execution_count": 31,
   "id": "5a50d68e",
   "metadata": {},
   "outputs": [
    {
     "data": {
      "text/plain": [
       "0.17150395778364116"
      ]
     },
     "execution_count": 31,
     "metadata": {},
     "output_type": "execute_result"
    }
   ],
   "source": [
    "65/379"
   ]
  },
  {
   "cell_type": "code",
   "execution_count": null,
   "id": "b44e4715",
   "metadata": {},
   "outputs": [],
   "source": []
  }
 ],
 "metadata": {
  "kernelspec": {
   "display_name": "Python 3 (ipykernel)",
   "language": "python",
   "name": "python3"
  },
  "language_info": {
   "codemirror_mode": {
    "name": "ipython",
    "version": 3
   },
   "file_extension": ".py",
   "mimetype": "text/x-python",
   "name": "python",
   "nbconvert_exporter": "python",
   "pygments_lexer": "ipython3",
   "version": "3.9.13"
  }
 },
 "nbformat": 4,
 "nbformat_minor": 5
}
