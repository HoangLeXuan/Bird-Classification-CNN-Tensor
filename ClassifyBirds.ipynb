{
 "cells": [
  {
   "cell_type": "code",
   "execution_count": 1,
   "id": "f92585d7",
   "metadata": {},
   "outputs": [],
   "source": [
    "import tensorflow as tf"
   ]
  },
  {
   "cell_type": "code",
   "execution_count": 2,
   "id": "b2161bd9",
   "metadata": {},
   "outputs": [],
   "source": [
    "# notice I have fewer layers and dropout layers after each maxpool layer\n",
    "model = tf.keras.models.Sequential([\n",
    "    # Note the input shape is the desired size of the image 200x200 with 3 bytes color\n",
    "    # This is the first convolution\n",
    "    tf.keras.layers.Conv2D(32, (3,3), activation='relu', input_shape=(200, 200, 3)),\n",
    "    tf.keras.layers.MaxPooling2D(2, 2),\n",
    "    tf.keras.layers.Dropout(0.25),\n",
    "    # The second convolution\n",
    "    tf.keras.layers.Conv2D(32, (3,3), activation='relu'),\n",
    "    tf.keras.layers.MaxPooling2D(2,2),\n",
    "    tf.keras.layers.Dropout(0.25),\n",
    "    # The third convolution\n",
    "    tf.keras.layers.Conv2D(64, (3,3), activation='relu'),\n",
    "    tf.keras.layers.MaxPooling2D(2,2),\n",
    "    tf.keras.layers.Dropout(0.25),\n",
    "    # Flatten the results to feed into a DNN\n",
    "    tf.keras.layers.Flatten(),\n",
    "    # 512 neuron hidden layer\n",
    "    tf.keras.layers.Dense(512, activation='relu'),\n",
    "    # Only 1 output neuron. It will contain a value from 0-1 \n",
    "    tf.keras.layers.Dense(1, activation='sigmoid')])"
   ]
  },
  {
   "cell_type": "code",
   "execution_count": 3,
   "id": "abf8c8ec",
   "metadata": {},
   "outputs": [
    {
     "name": "stdout",
     "output_type": "stream",
     "text": [
      "Model: \"sequential\"\n",
      "_________________________________________________________________\n",
      " Layer (type)                Output Shape              Param #   \n",
      "=================================================================\n",
      " conv2d (Conv2D)             (None, 198, 198, 32)      896       \n",
      "                                                                 \n",
      " max_pooling2d (MaxPooling2D  (None, 99, 99, 32)       0         \n",
      " )                                                               \n",
      "                                                                 \n",
      " dropout (Dropout)           (None, 99, 99, 32)        0         \n",
      "                                                                 \n",
      " conv2d_1 (Conv2D)           (None, 97, 97, 32)        9248      \n",
      "                                                                 \n",
      " max_pooling2d_1 (MaxPooling  (None, 48, 48, 32)       0         \n",
      " 2D)                                                             \n",
      "                                                                 \n",
      " dropout_1 (Dropout)         (None, 48, 48, 32)        0         \n",
      "                                                                 \n",
      " conv2d_2 (Conv2D)           (None, 46, 46, 64)        18496     \n",
      "                                                                 \n",
      " max_pooling2d_2 (MaxPooling  (None, 23, 23, 64)       0         \n",
      " 2D)                                                             \n",
      "                                                                 \n",
      " dropout_2 (Dropout)         (None, 23, 23, 64)        0         \n",
      "                                                                 \n",
      " flatten (Flatten)           (None, 33856)             0         \n",
      "                                                                 \n",
      " dense (Dense)               (None, 512)               17334784  \n",
      "                                                                 \n",
      " dense_1 (Dense)             (None, 1)                 513       \n",
      "                                                                 \n",
      "=================================================================\n",
      "Total params: 17,363,937\n",
      "Trainable params: 17,363,937\n",
      "Non-trainable params: 0\n",
      "_________________________________________________________________\n"
     ]
    }
   ],
   "source": [
    "model.summary()"
   ]
  },
  {
   "cell_type": "code",
   "execution_count": 4,
   "id": "ae0dd2cb",
   "metadata": {},
   "outputs": [],
   "source": [
    "RMSprop = tf.keras.dtensor.experimental.optimizers.RMSprop\n",
    "# could also use Adam here \n",
    "model.compile(loss='binary_crossentropy',optimizer=RMSprop(),metrics='accuracy')\n"
   ]
  },
  {
   "cell_type": "code",
   "execution_count": 20,
   "id": "6f8b194e",
   "metadata": {},
   "outputs": [
    {
     "name": "stdout",
     "output_type": "stream",
     "text": [
      "Found 118 files belonging to 2 classes.\n",
      "Using 83 files for training.\n",
      "Found 118 files belonging to 2 classes.\n",
      "Using 35 files for validation.\n",
      "Found 118 files belonging to 2 classes.\n"
     ]
    }
   ],
   "source": [
    "training_set = tf.keras.utils.image_dataset_from_directory(\n",
    "  'birds',\n",
    "  seed=123,\n",
    "  image_size=(200, 200),\n",
    "  subset='training',\n",
    "  validation_split=0.3,\n",
    "  batch_size=5)\n",
    "\n",
    "validation_set = tf.keras.utils.image_dataset_from_directory(\n",
    "  'birds',\n",
    "  shuffle=True,\n",
    "  seed=17,\n",
    "  image_size=(200, 200),\n",
    "  validation_split=0.3,\n",
    "  subset='validation',\n",
    "  batch_size=5)\n",
    " \n",
    "# predictions and labels only seem to line up if shuffle is false ... \n",
    "# so you can make a test folder and grab all the images in that folder \n",
    "# or you can get every image from 'birds' in order and then cull the images in the training set\n",
    "# for a holdout set as I do below\n",
    "\n",
    "holdout_set_all = tf.keras.utils.image_dataset_from_directory(\n",
    "  'birds',\n",
    "  shuffle=False,\n",
    "  seed=17,\n",
    "  image_size=(200, 200),\n",
    "  batch_size=1) # batch size has to be one for this set\n",
    "\n",
    "train_file_paths = training_set.file_paths\n",
    "validation_file_paths = validation_set.file_paths\n",
    "holdout_file_paths = holdout_set_all.file_paths"
   ]
  },
  {
   "cell_type": "code",
   "execution_count": 22,
   "id": "4094c1cc",
   "metadata": {},
   "outputs": [
    {
     "data": {
      "text/plain": [
       "(35, 35, 35)"
      ]
     },
     "execution_count": 22,
     "metadata": {},
     "output_type": "execute_result"
    }
   ],
   "source": [
    "images = []\n",
    "labels = []\n",
    "for e, image_label in enumerate(holdout_set_all):\n",
    "    f = holdout_file_paths[e]\n",
    "    if f in validation_file_paths:\n",
    "        images.append(image_label[0].numpy())\n",
    "        labels.append(image_label[1].numpy())\n",
    "len(validation_file_paths), len(images), len(labels)"
   ]
  },
  {
   "cell_type": "code",
   "execution_count": 23,
   "id": "33c76f82",
   "metadata": {},
   "outputs": [
    {
     "data": {
      "text/plain": [
       "(['001.Black_footed_Albatross', '141.Artic_Tern'],\n",
       " ['001.Black_footed_Albatross', '141.Artic_Tern'])"
      ]
     },
     "execution_count": 23,
     "metadata": {},
     "output_type": "execute_result"
    }
   ],
   "source": [
    "training_set.class_names, validation_set.class_names"
   ]
  },
  {
   "cell_type": "code",
   "execution_count": 24,
   "id": "75778cf4",
   "metadata": {},
   "outputs": [
    {
     "name": "stdout",
     "output_type": "stream",
     "text": [
      "Epoch 1/9\n",
      "17/17 [==============================] - 2s 97ms/step - loss: 559.1344 - accuracy: 0.5663 - val_loss: 3.3669 - val_accuracy: 0.6857\n",
      "Epoch 2/9\n",
      "17/17 [==============================] - 2s 94ms/step - loss: 10.3592 - accuracy: 0.6867 - val_loss: 1.0173 - val_accuracy: 0.6286\n",
      "Epoch 3/9\n",
      "17/17 [==============================] - 2s 93ms/step - loss: 2.4539 - accuracy: 0.7590 - val_loss: 0.8010 - val_accuracy: 0.7143\n",
      "Epoch 4/9\n",
      "17/17 [==============================] - 2s 93ms/step - loss: 2.8298 - accuracy: 0.7349 - val_loss: 0.7115 - val_accuracy: 0.5429\n",
      "Epoch 5/9\n",
      "17/17 [==============================] - 2s 93ms/step - loss: 2.8488 - accuracy: 0.6747 - val_loss: 0.5333 - val_accuracy: 0.7429\n",
      "Epoch 6/9\n",
      "17/17 [==============================] - 2s 93ms/step - loss: 0.6118 - accuracy: 0.7831 - val_loss: 0.6501 - val_accuracy: 0.6571\n",
      "Epoch 7/9\n",
      "17/17 [==============================] - 2s 94ms/step - loss: 1.2337 - accuracy: 0.6747 - val_loss: 0.5951 - val_accuracy: 0.6571\n",
      "Epoch 8/9\n",
      "17/17 [==============================] - 2s 94ms/step - loss: 0.6078 - accuracy: 0.7108 - val_loss: 0.8474 - val_accuracy: 0.4571\n",
      "Epoch 9/9\n",
      "17/17 [==============================] - 2s 93ms/step - loss: 0.7313 - accuracy: 0.7229 - val_loss: 0.8107 - val_accuracy: 0.6000\n"
     ]
    }
   ],
   "source": [
    "history = model.fit(training_set,\n",
    "      epochs=9,\n",
    "      verbose=1,\n",
    "      validation_data = validation_set)"
   ]
  },
  {
   "cell_type": "code",
   "execution_count": 25,
   "id": "bc543473",
   "metadata": {},
   "outputs": [
    {
     "name": "stdout",
     "output_type": "stream",
     "text": [
      "7/7 [==============================] - 0s 18ms/step - loss: 0.8107 - accuracy: 0.6000\n"
     ]
    },
    {
     "data": {
      "text/plain": [
       "[0.8106783032417297, 0.6000000238418579]"
      ]
     },
     "execution_count": 25,
     "metadata": {},
     "output_type": "execute_result"
    }
   ],
   "source": [
    "model.evaluate(validation_set)"
   ]
  },
  {
   "cell_type": "code",
   "execution_count": 27,
   "id": "c03be7a7",
   "metadata": {},
   "outputs": [
    {
     "name": "stdout",
     "output_type": "stream",
     "text": [
      "35/35 [==============================] - 0s 9ms/step\n"
     ]
    }
   ],
   "source": [
    "img_arrays = []\n",
    "for i in images:\n",
    "    img_arrays.append(i)\n",
    "\n",
    "test_dataset = tf.data.Dataset.from_tensor_slices(img_arrays)\n",
    "preds = model.predict(test_dataset)"
   ]
  },
  {
   "cell_type": "code",
   "execution_count": 28,
   "id": "a5652ec8",
   "metadata": {},
   "outputs": [
    {
     "data": {
      "text/plain": [
       "array([0.5464277], dtype=float32)"
      ]
     },
     "execution_count": 28,
     "metadata": {},
     "output_type": "execute_result"
    }
   ],
   "source": [
    "preds[0]"
   ]
  },
  {
   "cell_type": "code",
   "execution_count": 33,
   "id": "ea864e67",
   "metadata": {},
   "outputs": [
    {
     "data": {
      "text/plain": [
       "Counter({0: 20, 1: 15})"
      ]
     },
     "execution_count": 33,
     "metadata": {},
     "output_type": "execute_result"
    }
   ],
   "source": [
    "import pandas as pd\n",
    "from collections import Counter\n",
    "c = Counter([i[0] for i in labels])\n",
    "c"
   ]
  },
  {
   "cell_type": "code",
   "execution_count": 34,
   "id": "dbb65296",
   "metadata": {},
   "outputs": [
    {
     "data": {
      "text/html": [
       "<div>\n",
       "<style scoped>\n",
       "    .dataframe tbody tr th:only-of-type {\n",
       "        vertical-align: middle;\n",
       "    }\n",
       "\n",
       "    .dataframe tbody tr th {\n",
       "        vertical-align: top;\n",
       "    }\n",
       "\n",
       "    .dataframe thead th {\n",
       "        text-align: right;\n",
       "    }\n",
       "</style>\n",
       "<table border=\"1\" class=\"dataframe\">\n",
       "  <thead>\n",
       "    <tr style=\"text-align: right;\">\n",
       "      <th></th>\n",
       "      <th></th>\n",
       "      <th>predict_probability</th>\n",
       "      <th>predicted_label</th>\n",
       "    </tr>\n",
       "    <tr>\n",
       "      <th>true_label</th>\n",
       "      <th>compare</th>\n",
       "      <th></th>\n",
       "      <th></th>\n",
       "    </tr>\n",
       "  </thead>\n",
       "  <tbody>\n",
       "    <tr>\n",
       "      <th rowspan=\"2\" valign=\"top\">0</th>\n",
       "      <th>False</th>\n",
       "      <td>4</td>\n",
       "      <td>4</td>\n",
       "    </tr>\n",
       "    <tr>\n",
       "      <th>True</th>\n",
       "      <td>16</td>\n",
       "      <td>16</td>\n",
       "    </tr>\n",
       "    <tr>\n",
       "      <th rowspan=\"2\" valign=\"top\">1</th>\n",
       "      <th>False</th>\n",
       "      <td>4</td>\n",
       "      <td>4</td>\n",
       "    </tr>\n",
       "    <tr>\n",
       "      <th>True</th>\n",
       "      <td>11</td>\n",
       "      <td>11</td>\n",
       "    </tr>\n",
       "  </tbody>\n",
       "</table>\n",
       "</div>"
      ],
      "text/plain": [
       "                    predict_probability  predicted_label\n",
       "true_label compare                                      \n",
       "0          False                      4                4\n",
       "           True                      16               16\n",
       "1          False                      4                4\n",
       "           True                      11               11"
      ]
     },
     "execution_count": 34,
     "metadata": {},
     "output_type": "execute_result"
    }
   ],
   "source": [
    "df = pd.DataFrame()\n",
    "df['true_label'] = [i[0] for i in labels]\n",
    "df['predict_probability'] = [i[0] for i in preds]\n",
    "df = df.sort_values(by='predict_probability')\n",
    "inferred_labels = [0 for i in range(c[0])] + [1 for i in range(c[1])]\n",
    "df['predicted_label'] = inferred_labels \n",
    "df['compare'] = df['true_label'] == df['predicted_label']\n",
    "df.groupby(['true_label', 'compare']).count()"
   ]
  },
  {
   "cell_type": "code",
   "execution_count": 35,
   "id": "dfa62bb2",
   "metadata": {},
   "outputs": [
    {
     "data": {
      "text/plain": [
       "0.7714285714285715"
      ]
     },
     "execution_count": 35,
     "metadata": {},
     "output_type": "execute_result"
    }
   ],
   "source": [
    "len(df.loc[df['compare'] == True])/len(df)"
   ]
  }
 ],
 "metadata": {
  "kernelspec": {
   "display_name": "Python 3 (ipykernel)",
   "language": "python",
   "name": "python3"
  },
  "language_info": {
   "codemirror_mode": {
    "name": "ipython",
    "version": 3
   },
   "file_extension": ".py",
   "mimetype": "text/x-python",
   "name": "python",
   "nbconvert_exporter": "python",
   "pygments_lexer": "ipython3",
   "version": "3.9.13"
  }
 },
 "nbformat": 4,
 "nbformat_minor": 5
}
